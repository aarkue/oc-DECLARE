{
 "cells": [
  {
   "cell_type": "code",
   "execution_count": 1,
   "id": "70a9afa6",
   "metadata": {},
   "outputs": [],
   "source": [
    "import oc_declare"
   ]
  },
  {
   "cell_type": "code",
   "execution_count": 2,
   "id": "14189da6",
   "metadata": {},
   "outputs": [
    {
     "data": {
      "text/plain": [
       "OC-DECLARE Arc: EF(Load Truck, Depart, Each(orders), All(items),1,∞)"
      ]
     },
     "execution_count": 2,
     "metadata": {},
     "output_type": "execute_result"
    }
   ],
   "source": [
    "arc = oc_declare.OCDeclareArc(\"Load Truck\",\"Depart\",\"EF\",1,None,all_ots=[\"items\"],each_ots=[\"orders\"],any_ots=[])\n",
    "arc"
   ]
  },
  {
   "cell_type": "code",
   "execution_count": 3,
   "id": "c49381c6",
   "metadata": {},
   "outputs": [
    {
     "data": {
      "text/plain": [
       "OC-DECLARE Arc: EF(Load Truck, Depart, Each(orders), All(items), Any(employees),1,∞)"
      ]
     },
     "execution_count": 3,
     "metadata": {},
     "output_type": "execute_result"
    }
   ],
   "source": [
    "arc.any_ots = [\"employees\"]\n",
    "arc"
   ]
  },
  {
   "cell_type": "code",
   "execution_count": 4,
   "id": "281d50fe",
   "metadata": {},
   "outputs": [],
   "source": [
    "ocel = oc_declare.import_ocel2(\"../../../../dow/ocel/ContainerLogistics.json\")"
   ]
  },
  {
   "cell_type": "code",
   "execution_count": 5,
   "id": "337b8b0f",
   "metadata": {},
   "outputs": [],
   "source": [
    "res = oc_declare.discover(ocel,0.2,acts_to_use=[\"Load Truck\", \"Pick Up Empty Container\",\"Depart\"],o2o_mode=\"None\")"
   ]
  },
  {
   "cell_type": "code",
   "execution_count": 6,
   "id": "c3529663",
   "metadata": {},
   "outputs": [
    {
     "name": "stdout",
     "output_type": "stream",
     "text": [
      "EP(Depart, Pick Up Empty Container, Each(Container),1,∞)\n",
      "1.0\n",
      "---\n",
      "EF(Pick Up Empty Container, Depart, Any(Container),1,∞)\n",
      "0.978978978978979\n",
      "---\n",
      "EF(Load Truck, Depart, Any(Container),1,∞)\n",
      "0.9793697359704742\n",
      "---\n",
      "DF(Pick Up Empty Container, Load Truck, Any(Container),1,∞)\n",
      "0.997997997997998\n",
      "---\n",
      "EP(Load Truck, Pick Up Empty Container, Any(Container),1,∞)\n",
      "0.9986751206586543\n",
      "---\n",
      "EP(Depart, Load Truck, Each(Container),1,∞)\n",
      "1.0\n",
      "---\n"
     ]
    }
   ],
   "source": [
    "for arc in res:\n",
    "    print(arc.to_string())\n",
    "    print(oc_declare.check_conformance(ocel,arc))\n",
    "    print(\"---\")"
   ]
  },
  {
   "cell_type": "code",
   "execution_count": 7,
   "id": "53e5ebd4",
   "metadata": {},
   "outputs": [
    {
     "name": "stdout",
     "output_type": "stream",
     "text": [
      "Discovered 99 constraints!\n"
     ]
    },
    {
     "data": {
      "text/plain": [
       "[OC-DECLARE Arc: EP(Drive to Terminal, Order Empty Containers, Any(Container),1,∞),\n",
       " OC-DECLARE Arc: EP(Bring to Loading Bay, Load Truck, Any(Container),1,∞),\n",
       " OC-DECLARE Arc: DF(Pick Up Empty Container, Load Truck, Any(Container),1,∞),\n",
       " OC-DECLARE Arc: EP(Depart, Bring to Loading Bay, Each(Container),1,∞),\n",
       " OC-DECLARE Arc: EP(Depart, Weigh, Each(Container),1,∞),\n",
       " OC-DECLARE Arc: DF(Create Transport Document, Book Vehicles, Any(Transport Document),1,∞),\n",
       " OC-DECLARE Arc: EP(Create Transport Document, Register Customer Order, Any(Customer Order),1,∞),\n",
       " OC-DECLARE Arc: EF(Load Truck, Bring to Loading Bay, Any(Container),1,∞),\n",
       " OC-DECLARE Arc: DP(Weigh, Drive to Terminal, Any(Container),1,∞),\n",
       " OC-DECLARE Arc: EF(Weigh, Load to Vehicle, Any(Container),1,∞),\n",
       " OC-DECLARE Arc: DP(Order Empty Containers, Book Vehicles, Any(Transport Document),1,∞),\n",
       " OC-DECLARE Arc: EF(Order Empty Containers, Load to Vehicle, Each(Container),1,∞),\n",
       " OC-DECLARE Arc: EP(Place in Stock, Pick Up Empty Container, Any(Container),1,∞),\n",
       " OC-DECLARE Arc: EP(Bring to Loading Bay, Weigh, Any(Container),1,∞),\n",
       " OC-DECLARE Arc: EP(Weigh, Pick Up Empty Container, Any(Container),1,∞),\n",
       " OC-DECLARE Arc: DF(Register Customer Order, Create Transport Document, Any(Customer Order),1,∞),\n",
       " OC-DECLARE Arc: EP(Place in Stock, Order Empty Containers, Any(Container),1,∞),\n",
       " OC-DECLARE Arc: EF(Load Truck, Drive to Terminal, Any(Container,Truck),1,∞),\n",
       " OC-DECLARE Arc: EF(Bring to Loading Bay, Depart, Any(Container),1,∞),\n",
       " OC-DECLARE Arc: EF(Drive to Terminal, Load to Vehicle, Any(Container),1,∞),\n",
       " OC-DECLARE Arc: EP(Depart, Load Truck, Each(Container),1,∞),\n",
       " OC-DECLARE Arc: DF(Load to Vehicle, Depart, Any(Container,Vehicle),1,∞),\n",
       " OC-DECLARE Arc: DF(Drive to Terminal, Weigh, Any(Container),1,∞),\n",
       " OC-DECLARE Arc: EF(Pick Up Empty Container, Depart, Any(Container),1,∞),\n",
       " OC-DECLARE Arc: EP(Depart, Pick Up Empty Container, Each(Container),1,∞),\n",
       " OC-DECLARE Arc: EF(Load Truck, Depart, Any(Container),1,∞),\n",
       " OC-DECLARE Arc: EP(Load to Vehicle, Book Vehicles, Any(Vehicle),1,∞),\n",
       " OC-DECLARE Arc: EP(Load to Vehicle, Order Empty Containers, Any(Container),1,∞),\n",
       " OC-DECLARE Arc: EF(Order Empty Containers, Load Truck, Each(Container),1,∞),\n",
       " OC-DECLARE Arc: DP(Place in Stock, Weigh, Any(Container,Forklift),1,∞),\n",
       " OC-DECLARE Arc: EP(Drive to Terminal, Pick Up Empty Container, Any(Container),1,∞),\n",
       " OC-DECLARE Arc: DF(Bring to Loading Bay, Load to Vehicle, Any(Container,Forklift),1,∞),\n",
       " OC-DECLARE Arc: EP(Pick Up Empty Container, Order Empty Containers, Any(Container),1,∞),\n",
       " OC-DECLARE Arc: DF(Book Vehicles, Depart, Each(Vehicle), Any(Transport Document),1,∞),\n",
       " OC-DECLARE Arc: EP(Load Truck, Collect Goods, Any(Handling Unit),1,∞),\n",
       " OC-DECLARE Arc: DF(Weigh, Place in Stock, Any(Container,Forklift),1,∞),\n",
       " OC-DECLARE Arc: EP(Load to Vehicle, Place in Stock, Any(Container),1,∞),\n",
       " OC-DECLARE Arc: EF(Order Empty Containers, Bring to Loading Bay, Each(Container),1,∞),\n",
       " OC-DECLARE Arc: EF(Order Empty Containers, Weigh, Each(Container),1,∞),\n",
       " OC-DECLARE Arc: EF(Order Empty Containers, Place in Stock, Any(Container),1,∞),\n",
       " OC-DECLARE Arc: EF(Place in Stock, Depart, Any(Container),1,∞),\n",
       " OC-DECLARE Arc: EF(Place in Stock, Load to Vehicle, Any(Container),1,∞),\n",
       " OC-DECLARE Arc: DF(Reschedule Container, Depart, Any(Container,Transport Document,Vehicle),1,∞),\n",
       " OC-DECLARE Arc: EP(Reschedule Container, Weigh, Any(Container),1,∞),\n",
       " OC-DECLARE Arc: DP(Reschedule Container, Order Empty Containers, Any(Container,Transport Document),1,∞),\n",
       " OC-DECLARE Arc: DP(Bring to Loading Bay, Place in Stock, Any(Container),1,∞),\n",
       " OC-DECLARE Arc: EF(Load Truck, Weigh, Any(Container),1,∞),\n",
       " OC-DECLARE Arc: EP(Load to Vehicle, Load Truck, Any(Container),1,∞),\n",
       " OC-DECLARE Arc: DF(Order Empty Containers, Depart, Each(Container), Any(Transport Document),1,∞),\n",
       " OC-DECLARE Arc: EP(Reschedule Container, Drive to Terminal, Any(Container),1,∞),\n",
       " OC-DECLARE Arc: EF(Drive to Terminal, Place in Stock, Any(Container),1,∞),\n",
       " OC-DECLARE Arc: EF(Pick Up Empty Container, Bring to Loading Bay, Any(Container),1,∞),\n",
       " OC-DECLARE Arc: DF(Book Vehicles, Order Empty Containers, Any(Transport Document),1,∞),\n",
       " OC-DECLARE Arc: EP(Depart, Create Transport Document, Each(Transport Document),1,∞),\n",
       " OC-DECLARE Arc: EF(Create Transport Document, Order Empty Containers, Any(Transport Document),1,∞),\n",
       " OC-DECLARE Arc: EP(Load Truck, Pick Up Empty Container, Any(Container),1,∞),\n",
       " OC-DECLARE Arc: DP(Load to Vehicle, Bring to Loading Bay, Any(Container,Forklift),1,∞),\n",
       " OC-DECLARE Arc: EF(Drive to Terminal, Depart, Any(Container),1,∞),\n",
       " OC-DECLARE Arc: EP(Bring to Loading Bay, Pick Up Empty Container, Any(Container),1,∞),\n",
       " OC-DECLARE Arc: EF(Pick Up Empty Container, Weigh, Any(Container),1,∞),\n",
       " OC-DECLARE Arc: EP(Book Vehicles, Create Transport Document, Any(Transport Document),1,∞),\n",
       " OC-DECLARE Arc: DP(Depart, Book Vehicles, Each(Transport Document), Any(Vehicle),1,∞),\n",
       " OC-DECLARE Arc: DP(Depart, Order Empty Containers, Each(Transport Document), Any(Container),1,∞),\n",
       " OC-DECLARE Arc: DP(Depart, Order Empty Containers, Each(Container), Any(Transport Document),1,∞),\n",
       " OC-DECLARE Arc: EP(Weigh, Load Truck, Any(Container),1,∞),\n",
       " OC-DECLARE Arc: EP(Load to Vehicle, Weigh, Any(Container),1,∞),\n",
       " OC-DECLARE Arc: EF(Order Empty Containers, Pick Up Empty Container, Each(Container),1,∞),\n",
       " OC-DECLARE Arc: DF(Place in Stock, Bring to Loading Bay, Any(Container),1,∞),\n",
       " OC-DECLARE Arc: DP(Reschedule Container, Bring to Loading Bay, Any(Container),1,∞),\n",
       " OC-DECLARE Arc: EP(Reschedule Container, Pick Up Empty Container, Any(Container),1,∞),\n",
       " OC-DECLARE Arc: EP(Reschedule Container, Book Vehicles, Any(Transport Document),1,∞),\n",
       " OC-DECLARE Arc: EP(Reschedule Container, Book Vehicles, Any(Vehicle),1,∞),\n",
       " OC-DECLARE Arc: EP(Reschedule Container, Create Transport Document, Any(Transport Document),1,∞),\n",
       " OC-DECLARE Arc: EP(Reschedule Container, Load Truck, Any(Container),1,∞),\n",
       " OC-DECLARE Arc: DF(Reschedule Container, Load to Vehicle, Any(Container,Vehicle),1,∞),\n",
       " OC-DECLARE Arc: DP(Drive to Terminal, Load Truck, Any(Container,Truck),1,∞),\n",
       " OC-DECLARE Arc: EF(Pick Up Empty Container, Load to Vehicle, Any(Container),1,∞),\n",
       " OC-DECLARE Arc: EP(Depart, Drive to Terminal, Each(Container),1,∞),\n",
       " OC-DECLARE Arc: DP(Depart, Load to Vehicle, Each(Container), Any(Vehicle),1,∞),\n",
       " OC-DECLARE Arc: EP(Load Truck, Order Empty Containers, Any(Container),1,∞),\n",
       " OC-DECLARE Arc: EF(Weigh, Bring to Loading Bay, Any(Container),1,∞),\n",
       " OC-DECLARE Arc: EF(Weigh, Depart, Any(Container),1,∞),\n",
       " OC-DECLARE Arc: EP(Weigh, Order Empty Containers, Any(Container),1,∞),\n",
       " OC-DECLARE Arc: EP(Load to Vehicle, Pick Up Empty Container, Any(Container),1,∞),\n",
       " OC-DECLARE Arc: EP(Order Empty Containers, Create Transport Document, Any(Transport Document),1,∞),\n",
       " OC-DECLARE Arc: DF(Collect Goods, Load Truck, Any(Handling Unit),1,∞),\n",
       " OC-DECLARE Arc: EF(Pick Up Empty Container, Drive to Terminal, Any(Container),1,∞),\n",
       " OC-DECLARE Arc: EF(Load Truck, Place in Stock, Any(Container),1,∞),\n",
       " OC-DECLARE Arc: EF(Drive to Terminal, Bring to Loading Bay, Any(Container),1,∞),\n",
       " OC-DECLARE Arc: EP(Bring to Loading Bay, Order Empty Containers, Any(Container),1,∞),\n",
       " OC-DECLARE Arc: EF(Pick Up Empty Container, Place in Stock, Any(Container),1,∞),\n",
       " OC-DECLARE Arc: EF(Create Transport Document, Depart, Any(Transport Document),1,∞),\n",
       " OC-DECLARE Arc: EF(Load Truck, Load to Vehicle, Any(Container),1,∞),\n",
       " OC-DECLARE Arc: EP(Load to Vehicle, Drive to Terminal, Any(Container),1,∞),\n",
       " OC-DECLARE Arc: EF(Order Empty Containers, Drive to Terminal, Each(Container),1,∞),\n",
       " OC-DECLARE Arc: EP(Place in Stock, Drive to Terminal, Any(Container),1,∞),\n",
       " OC-DECLARE Arc: EP(Bring to Loading Bay, Drive to Terminal, Any(Container),1,∞),\n",
       " OC-DECLARE Arc: EP(Depart, Place in Stock, Any(Container),1,∞),\n",
       " OC-DECLARE Arc: EP(Place in Stock, Load Truck, Any(Container),1,∞)]"
      ]
     },
     "execution_count": 7,
     "metadata": {},
     "output_type": "execute_result"
    }
   ],
   "source": [
    "all_res = oc_declare.discover(ocel,0.2)\n",
    "print(f\"Discovered {len(all_res)} constraints!\")\n",
    "\n",
    "all_res"
   ]
  }
 ],
 "metadata": {
  "kernelspec": {
   "display_name": ".venv",
   "language": "python",
   "name": "python3"
  },
  "language_info": {
   "codemirror_mode": {
    "name": "ipython",
    "version": 3
   },
   "file_extension": ".py",
   "mimetype": "text/x-python",
   "name": "python",
   "nbconvert_exporter": "python",
   "pygments_lexer": "ipython3",
   "version": "3.8.20"
  }
 },
 "nbformat": 4,
 "nbformat_minor": 5
}
